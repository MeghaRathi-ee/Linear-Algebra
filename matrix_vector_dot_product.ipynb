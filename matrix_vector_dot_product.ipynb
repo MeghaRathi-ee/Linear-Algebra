{
 "cells": [
  {
   "cell_type": "markdown",
   "id": "3cf004a6",
   "metadata": {},
   "source": [
    "## Matrix Vector dot product\n"
   ]
  },
  {
   "cell_type": "markdown",
   "id": "bc5baa4b",
   "metadata": {},
   "source": [
    "Write a Python function that computes the dot product of a matrix and a vector. The function should return a list representing the resulting vector if the operation is valid, or -1 if the matrix and vector dimensions are incompatible. A matrix (a list of lists) can be dotted with a vector (a list) only if the number of columns in the matrix equals the length of the vector. For example, an n x m matrix requires a vector of length m."
   ]
  },
  {
   "cell_type": "markdown",
   "id": "acaffd58",
   "metadata": {},
   "source": [
    "Example:\n",
    "#### Input:\n",
    "a = [[1, 2], [2, 4]], b = [1, 2]\n",
    "#### Output:\n",
    "[5, 10]\n",
    "#### Reasoning:\n",
    "Row 1: (1 * 1) + (2 * 2) = 1 + 4 = 5; Row 2: (1 * 2) + (2 * 4) = 2 + 8 = 10"
   ]
  },
  {
   "cell_type": "code",
   "execution_count": 2,
   "id": "6d31cd16",
   "metadata": {},
   "outputs": [],
   "source": [
    "import numpy as np"
   ]
  },
  {
   "cell_type": "code",
   "execution_count": 3,
   "id": "e41e9914",
   "metadata": {},
   "outputs": [],
   "source": [
    "def matrix_dot_vector(a: list[list[int|float]], b: list[int|float]) -> list[int|float]:\n",
    "\t\n",
    "    import numpy as np\n",
    "    \n",
    "    matrix = np.array(a)\n",
    "    vector = np.array(b)\n",
    "\n",
    "    # Check if dimensions are compatible\n",
    "    if matrix.shape[1] != vector.shape[0]:\n",
    "        return -1\n",
    "\n",
    "    # Compute dot product\n",
    "    result = np.dot(matrix, vector)\n",
    "\n",
    "    return result.tolist()"
   ]
  }
 ],
 "metadata": {
  "kernelspec": {
   "display_name": "deep_ml_practice",
   "language": "python",
   "name": "python3"
  },
  "language_info": {
   "codemirror_mode": {
    "name": "ipython",
    "version": 3
   },
   "file_extension": ".py",
   "mimetype": "text/x-python",
   "name": "python",
   "nbconvert_exporter": "python",
   "pygments_lexer": "ipython3",
   "version": "3.10.19"
  }
 },
 "nbformat": 4,
 "nbformat_minor": 5
}
